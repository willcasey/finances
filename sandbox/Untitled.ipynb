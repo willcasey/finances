{
 "cells": [
  {
   "cell_type": "code",
   "execution_count": 1,
   "metadata": {},
   "outputs": [],
   "source": [
    "import mintapi\n",
    "import csv\n",
    "import pandas as pd\n",
    "import re\n",
    "from lib.functions import *\n"
   ]
  },
  {
   "cell_type": "code",
   "execution_count": null,
   "metadata": {},
   "outputs": [],
   "source": []
  },
  {
   "cell_type": "code",
   "execution_count": 2,
   "metadata": {},
   "outputs": [],
   "source": [
    "LIB_PATH = \"./lib/\""
   ]
  },
  {
   "cell_type": "code",
   "execution_count": 3,
   "metadata": {},
   "outputs": [],
   "source": [
    "upw = eval(openFile(path=LIB_PATH, file='password.pw'))\n",
    "# mintparams = openFile(path=LIB_PATH, file='mintparams.json')"
   ]
  },
  {
   "cell_type": "code",
   "execution_count": 4,
   "metadata": {},
   "outputs": [
    {
     "data": {
      "text/plain": [
       "{'email': 'wcasey17@gmail.com', 'password': 'Sand45top%'}"
      ]
     },
     "execution_count": 4,
     "metadata": {},
     "output_type": "execute_result"
    }
   ],
   "source": [
    "upw"
   ]
  },
  {
   "cell_type": "code",
   "execution_count": 5,
   "metadata": {},
   "outputs": [],
   "source": [
    "mintparams = {\n",
    "        'mfa_method':'sms'\n",
    "        ,'headless': True\n",
    "        , 'mfa_input_callback': None\n",
    "        , 'session_path': None\n",
    "        , 'imap_account': None\n",
    "        , 'imap_password': None\n",
    "        , 'imap_server': None\n",
    "        , 'imap_folder':'INBOX'\n",
    "        , 'wait_for_sync': False\n",
    "        , 'wait_for_sync_timeout': 300\n",
    "}"
   ]
  },
  {
   "cell_type": "code",
   "execution_count": 6,
   "metadata": {},
   "outputs": [],
   "source": [
    "mintparams.update(upw)"
   ]
  },
  {
   "cell_type": "code",
   "execution_count": 7,
   "metadata": {},
   "outputs": [
    {
     "data": {
      "text/plain": [
       "{'mfa_method': 'sms',\n",
       " 'headless': True,\n",
       " 'mfa_input_callback': None,\n",
       " 'session_path': None,\n",
       " 'imap_account': None,\n",
       " 'imap_password': None,\n",
       " 'imap_server': None,\n",
       " 'imap_folder': 'INBOX',\n",
       " 'wait_for_sync': False,\n",
       " 'wait_for_sync_timeout': 300,\n",
       " 'email': 'wcasey17@gmail.com',\n",
       " 'password': 'Sand45top%'}"
      ]
     },
     "execution_count": 7,
     "metadata": {},
     "output_type": "execute_result"
    }
   ],
   "source": [
    "\n",
    "mintparams"
   ]
  },
  {
   "cell_type": "code",
   "execution_count": 8,
   "metadata": {},
   "outputs": [
    {
     "name": "stdout",
     "output_type": "stream",
     "text": [
      "Please enter your 6-digit MFA code: 023754\n"
     ]
    }
   ],
   "source": [
    "mint = mintapi.Mint(**mintparams)\n",
    "\n"
   ]
  },
  {
   "cell_type": "code",
   "execution_count": 9,
   "metadata": {},
   "outputs": [],
   "source": [
    "parse_and_write_transactions(mint.get_transactions_csv())"
   ]
  },
  {
   "cell_type": "code",
   "execution_count": 70,
   "metadata": {},
   "outputs": [],
   "source": []
  },
  {
   "cell_type": "code",
   "execution_count": 71,
   "metadata": {},
   "outputs": [],
   "source": [
    "\n"
   ]
  },
  {
   "cell_type": "code",
   "execution_count": 115,
   "metadata": {},
   "outputs": [],
   "source": []
  },
  {
   "cell_type": "code",
   "execution_count": 10,
   "metadata": {},
   "outputs": [
    {
     "data": {
      "text/html": [
       "<div>\n",
       "<style scoped>\n",
       "    .dataframe tbody tr th:only-of-type {\n",
       "        vertical-align: middle;\n",
       "    }\n",
       "\n",
       "    .dataframe tbody tr th {\n",
       "        vertical-align: top;\n",
       "    }\n",
       "\n",
       "    .dataframe thead th {\n",
       "        text-align: right;\n",
       "    }\n",
       "</style>\n",
       "<table border=\"1\" class=\"dataframe\">\n",
       "  <thead>\n",
       "    <tr style=\"text-align: right;\">\n",
       "      <th></th>\n",
       "      <th>\"Date\"</th>\n",
       "      <th>\"Description\"</th>\n",
       "      <th>\"Original Description\"</th>\n",
       "      <th>\"Amount\"</th>\n",
       "      <th>\"Transaction Type\"</th>\n",
       "      <th>\"Category\"</th>\n",
       "      <th>\"Account Name\"</th>\n",
       "      <th>\"Labels\"</th>\n",
       "      <th>\"Notes\"</th>\n",
       "    </tr>\n",
       "  </thead>\n",
       "  <tbody>\n",
       "    <tr>\n",
       "      <td>0</td>\n",
       "      <td>\"11/12/2019\"</td>\n",
       "      <td>\"Apple\"</td>\n",
       "      <td>\"APPLE.COM/BILL ,CA\"</td>\n",
       "      <td>\"12.97\"</td>\n",
       "      <td>\"debit\"</td>\n",
       "      <td>\"Electronics &amp; Software\"</td>\n",
       "      <td>\"Checking\"</td>\n",
       "      <td>\"\"</td>\n",
       "      <td>\"\"</td>\n",
       "    </tr>\n",
       "    <tr>\n",
       "      <td>1</td>\n",
       "      <td>\"11/12/2019\"</td>\n",
       "      <td>\"McDonald's\"</td>\n",
       "      <td>\"MCDONALD.S F180,ABILENE ,TX\"</td>\n",
       "      <td>\"4.32\"</td>\n",
       "      <td>\"debit\"</td>\n",
       "      <td>\"Fast Food\"</td>\n",
       "      <td>\"Checking\"</td>\n",
       "      <td>\"\"</td>\n",
       "      <td>\"\"</td>\n",
       "    </tr>\n",
       "    <tr>\n",
       "      <td>2</td>\n",
       "      <td>\"12/14/2019\"</td>\n",
       "      <td>\"ATM Fee\"</td>\n",
       "      <td>\"A387870 299 ELLIS ST. SAN FRANCISCO\"</td>\n",
       "      <td>\"2.50\"</td>\n",
       "      <td>\"debit\"</td>\n",
       "      <td>\"ATM Fee\"</td>\n",
       "      <td>\"Investor Checking\"</td>\n",
       "      <td>\"\"</td>\n",
       "      <td>\"\"</td>\n",
       "    </tr>\n",
       "    <tr>\n",
       "      <td>3</td>\n",
       "      <td>\"12/14/2019\"</td>\n",
       "      <td>\"A387870 299 ELLIS ST. SAN FRANCISCO\"</td>\n",
       "      <td>\"A387870 299 ELLIS ST. SAN FRANCISCO\"</td>\n",
       "      <td>\"20.00\"</td>\n",
       "      <td>\"debit\"</td>\n",
       "      <td>\"Cash &amp; ATM\"</td>\n",
       "      <td>\"Investor Checking\"</td>\n",
       "      <td>\"\"</td>\n",
       "      <td>\"\"</td>\n",
       "    </tr>\n",
       "    <tr>\n",
       "      <td>4</td>\n",
       "      <td>\"12/13/2019\"</td>\n",
       "      <td>\"Subway\"</td>\n",
       "      <td>\"SUBWAY 00502815\"</td>\n",
       "      <td>\"6.49\"</td>\n",
       "      <td>\"debit\"</td>\n",
       "      <td>\"Fast Food\"</td>\n",
       "      <td>\"CREDITCARD Account\"</td>\n",
       "      <td>\"\"</td>\n",
       "      <td>\"\"</td>\n",
       "    </tr>\n",
       "    <tr>\n",
       "      <td>...</td>\n",
       "      <td>...</td>\n",
       "      <td>...</td>\n",
       "      <td>...</td>\n",
       "      <td>...</td>\n",
       "      <td>...</td>\n",
       "      <td>...</td>\n",
       "      <td>...</td>\n",
       "      <td>...</td>\n",
       "      <td>...</td>\n",
       "    </tr>\n",
       "    <tr>\n",
       "      <td>294</td>\n",
       "      <td>\"8/12/2019\"</td>\n",
       "      <td>\"Budget Rent\"</td>\n",
       "      <td>\"BUDGET RENT-A-CAR\"</td>\n",
       "      <td>\"117.59\"</td>\n",
       "      <td>\"debit\"</td>\n",
       "      <td>\"Rental Car &amp; Taxi\"</td>\n",
       "      <td>\"CREDITCARD Account\"</td>\n",
       "      <td>\"\"</td>\n",
       "      <td>\"\"</td>\n",
       "    </tr>\n",
       "    <tr>\n",
       "      <td>295</td>\n",
       "      <td>\"8/11/2019\"</td>\n",
       "      <td>\"TRANSFER FROM ACCT 2 Online Transaction 08/11...</td>\n",
       "      <td>\"TRANSFER FROM ACCT 2\"</td>\n",
       "      <td>\"4.00\"</td>\n",
       "      <td>\"credit\"</td>\n",
       "      <td>\"Transfer\"</td>\n",
       "      <td>\"Checking\"</td>\n",
       "      <td>\"\"</td>\n",
       "      <td>\"\"</td>\n",
       "    </tr>\n",
       "    <tr>\n",
       "      <td>296</td>\n",
       "      <td>\"8/11/2019\"</td>\n",
       "      <td>\"TRANSFER FROM MBR ***31 ACCT 2 Online Transac...</td>\n",
       "      <td>\"TRANSFER FROM MBR ***31 ACCT 2\"</td>\n",
       "      <td>\"500.00\"</td>\n",
       "      <td>\"credit\"</td>\n",
       "      <td>\"Transfer\"</td>\n",
       "      <td>\"Other Savings\"</td>\n",
       "      <td>\"\"</td>\n",
       "      <td>\"\"</td>\n",
       "    </tr>\n",
       "    <tr>\n",
       "      <td>297</td>\n",
       "      <td>\"8/11/2019\"</td>\n",
       "      <td>\"TRANSFER TO ACCT 8 Online Transaction 08/11/2...</td>\n",
       "      <td>\"TRANSFER TO ACCT 8\"</td>\n",
       "      <td>\"4.00\"</td>\n",
       "      <td>\"debit\"</td>\n",
       "      <td>\"Transfer\"</td>\n",
       "      <td>\"Taxes\"</td>\n",
       "      <td>\"\"</td>\n",
       "      <td>\"\"</td>\n",
       "    </tr>\n",
       "    <tr>\n",
       "      <td>298</td>\n",
       "      <td>NaN</td>\n",
       "      <td>NaN</td>\n",
       "      <td>NaN</td>\n",
       "      <td>NaN</td>\n",
       "      <td>NaN</td>\n",
       "      <td>NaN</td>\n",
       "      <td>NaN</td>\n",
       "      <td>NaN</td>\n",
       "      <td>NaN</td>\n",
       "    </tr>\n",
       "  </tbody>\n",
       "</table>\n",
       "<p>299 rows × 9 columns</p>\n",
       "</div>"
      ],
      "text/plain": [
       "           \"Date\"                                      \"Description\"  \\\n",
       "0    \"11/12/2019\"                                            \"Apple\"   \n",
       "1    \"11/12/2019\"                                       \"McDonald's\"   \n",
       "2    \"12/14/2019\"                                          \"ATM Fee\"   \n",
       "3    \"12/14/2019\"              \"A387870 299 ELLIS ST. SAN FRANCISCO\"   \n",
       "4    \"12/13/2019\"                                           \"Subway\"   \n",
       "..            ...                                                ...   \n",
       "294   \"8/12/2019\"                                      \"Budget Rent\"   \n",
       "295   \"8/11/2019\"  \"TRANSFER FROM ACCT 2 Online Transaction 08/11...   \n",
       "296   \"8/11/2019\"  \"TRANSFER FROM MBR ***31 ACCT 2 Online Transac...   \n",
       "297   \"8/11/2019\"  \"TRANSFER TO ACCT 8 Online Transaction 08/11/2...   \n",
       "298           NaN                                                NaN   \n",
       "\n",
       "                    \"Original Description\"  \"Amount\" \"Transaction Type\"  \\\n",
       "0                     \"APPLE.COM/BILL ,CA\"   \"12.97\"            \"debit\"   \n",
       "1            \"MCDONALD.S F180,ABILENE ,TX\"    \"4.32\"            \"debit\"   \n",
       "2    \"A387870 299 ELLIS ST. SAN FRANCISCO\"    \"2.50\"            \"debit\"   \n",
       "3    \"A387870 299 ELLIS ST. SAN FRANCISCO\"   \"20.00\"            \"debit\"   \n",
       "4                        \"SUBWAY 00502815\"    \"6.49\"            \"debit\"   \n",
       "..                                     ...       ...                ...   \n",
       "294                    \"BUDGET RENT-A-CAR\"  \"117.59\"            \"debit\"   \n",
       "295                 \"TRANSFER FROM ACCT 2\"    \"4.00\"           \"credit\"   \n",
       "296       \"TRANSFER FROM MBR ***31 ACCT 2\"  \"500.00\"           \"credit\"   \n",
       "297                   \"TRANSFER TO ACCT 8\"    \"4.00\"            \"debit\"   \n",
       "298                                    NaN       NaN                NaN   \n",
       "\n",
       "                   \"Category\"        \"Account Name\" \"Labels\" \"Notes\"  \n",
       "0    \"Electronics & Software\"            \"Checking\"       \"\"      \"\"  \n",
       "1                 \"Fast Food\"            \"Checking\"       \"\"      \"\"  \n",
       "2                   \"ATM Fee\"   \"Investor Checking\"       \"\"      \"\"  \n",
       "3                \"Cash & ATM\"   \"Investor Checking\"       \"\"      \"\"  \n",
       "4                 \"Fast Food\"  \"CREDITCARD Account\"       \"\"      \"\"  \n",
       "..                        ...                   ...      ...     ...  \n",
       "294       \"Rental Car & Taxi\"  \"CREDITCARD Account\"       \"\"      \"\"  \n",
       "295                \"Transfer\"            \"Checking\"       \"\"      \"\"  \n",
       "296                \"Transfer\"       \"Other Savings\"       \"\"      \"\"  \n",
       "297                \"Transfer\"               \"Taxes\"       \"\"      \"\"  \n",
       "298                       NaN                   NaN      NaN     NaN  \n",
       "\n",
       "[299 rows x 9 columns]"
      ]
     },
     "execution_count": 10,
     "metadata": {},
     "output_type": "execute_result"
    }
   ],
   "source": [
    "pd.read_csv('transactions.csv', delimiter=\",\")"
   ]
  },
  {
   "cell_type": "code",
   "execution_count": null,
   "metadata": {},
   "outputs": [],
   "source": []
  }
 ],
 "metadata": {
  "kernelspec": {
   "display_name": "finances",
   "language": "python",
   "name": "finances"
  },
  "language_info": {
   "codemirror_mode": {
    "name": "ipython",
    "version": 3
   },
   "file_extension": ".py",
   "mimetype": "text/x-python",
   "name": "python",
   "nbconvert_exporter": "python",
   "pygments_lexer": "ipython3",
   "version": "3.7.4"
  }
 },
 "nbformat": 4,
 "nbformat_minor": 2
}
